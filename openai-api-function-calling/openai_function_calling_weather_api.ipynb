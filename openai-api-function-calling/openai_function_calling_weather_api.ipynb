{
 "cells": [
  {
   "cell_type": "markdown",
   "metadata": {},
   "source": [
    "Function Calling :-"
   ]
  },
  {
   "cell_type": "markdown",
   "metadata": {},
   "source": [
    "AI model’s ability to call external functions, APIs, or execute custom logic based on a user’s request. It enables AI models to interact with databases, retrieve real-time data, and execute predefined tasks, making them more dynamic and useful."
   ]
  },
  {
   "cell_type": "markdown",
   "metadata": {},
   "source": [
    "AI calls APIs to fetch live weather, stock prices.AI books appointments, adds events to Google Calendar.AI retrieves customer details, past orders from a database."
   ]
  },
  {
   "cell_type": "markdown",
   "metadata": {},
   "source": [
    "https://rapidapi.com/ has so many APIs in it"
   ]
  },
  {
   "cell_type": "code",
   "execution_count": 34,
   "metadata": {},
   "outputs": [
    {
     "name": "stdout",
     "output_type": "stream",
     "text": [
      "{'lat': '25.07725N', 'lon': '55.30927E', 'elevation': 25, 'timezone': 'Asia/Dubai', 'units': 'metric', 'data': [{'date': '2023-08-24T00:00:00', 'weather': 'partly_sunny', 'summary': 'Partly sunny', 'icon': 4, 'temperature': 32.8, 'feels_like': 42.4, 'wind_chill': 35.5, 'dew_point': 30.4, 'wind': {'speed': 1.1, 'gusts': 1.5, 'angle': 267, 'dir': 'W'}, 'cloud_cover': 42, 'pressure': 1000, 'precipitation': {'total': 0.0, 'type': 'none'}, 'ozone': 286, 'humidity': 87.0}, {'date': '2023-08-24T01:00:00', 'weather': 'partly_sunny', 'summary': 'Partly sunny', 'icon': 4, 'temperature': 32.1, 'feels_like': 42.3, 'wind_chill': 34.7, 'dew_point': 30.3, 'wind': {'speed': 0.7, 'gusts': 1.5, 'angle': 201, 'dir': 'SSW'}, 'cloud_cover': 26, 'pressure': 1000, 'precipitation': {'total': 0.0, 'type': 'none'}, 'ozone': 285, 'humidity': 90.0}, {'date': '2023-08-24T02:00:00', 'weather': 'overcast', 'summary': 'Overcast', 'icon': 7, 'temperature': 31.2, 'feels_like': 39.3, 'wind_chill': 33.8, 'dew_point': 30.1, 'wind': {'speed': 1.1, 'gusts': 2.3, 'angle': 156, 'dir': 'SSE'}, 'cloud_cover': 100, 'pressure': 1000, 'precipitation': {'total': 0.0, 'type': 'none'}, 'ozone': 282, 'humidity': 93.0}, {'date': '2023-08-24T03:00:00', 'weather': 'overcast', 'summary': 'Overcast', 'icon': 7, 'temperature': 30.8, 'feels_like': 38.8, 'wind_chill': 33.4, 'dew_point': 30.2, 'wind': {'speed': 1.5, 'gusts': 3.1, 'angle': 135, 'dir': 'SE'}, 'cloud_cover': 100, 'pressure': 999, 'precipitation': {'total': 0.0, 'type': 'none'}, 'ozone': 282, 'humidity': 96.0}, {'date': '2023-08-24T04:00:00', 'weather': 'overcast', 'summary': 'Overcast', 'icon': 7, 'temperature': 30.5, 'feels_like': 37.8, 'wind_chill': 33.1, 'dew_point': 29.8, 'wind': {'speed': 2.1, 'gusts': 3.5, 'angle': 125, 'dir': 'SE'}, 'cloud_cover': 100, 'pressure': 1000, 'precipitation': {'total': 0.0, 'type': 'none'}, 'ozone': 282, 'humidity': 96.0}, {'date': '2023-08-24T05:00:00', 'weather': 'overcast', 'summary': 'Overcast', 'icon': 7, 'temperature': 30.4, 'feels_like': 37.5, 'wind_chill': 33.0, 'dew_point': 29.4, 'wind': {'speed': 2.3, 'gusts': 3.6, 'angle': 139, 'dir': 'SE'}, 'cloud_cover': 94, 'pressure': 1000, 'precipitation': {'total': 0.0, 'type': 'none'}, 'ozone': 282, 'humidity': 94.0}, {'date': '2023-08-24T06:00:00', 'weather': 'overcast', 'summary': 'Overcast', 'icon': 7, 'temperature': 29.9, 'feels_like': 36.8, 'wind_chill': 32.4, 'dew_point': 29.0, 'wind': {'speed': 2.0, 'gusts': 3.5, 'angle': 163, 'dir': 'SSE'}, 'cloud_cover': 98, 'pressure': 1000, 'precipitation': {'total': 0.0, 'type': 'none'}, 'ozone': 282, 'humidity': 95.0}, {'date': '2023-08-24T07:00:00', 'weather': 'overcast', 'summary': 'Overcast', 'icon': 7, 'temperature': 29.9, 'feels_like': 36.5, 'wind_chill': 32.4, 'dew_point': 28.3, 'wind': {'speed': 1.9, 'gusts': 3.8, 'angle': 187, 'dir': 'S'}, 'cloud_cover': 92, 'pressure': 1000, 'precipitation': {'total': 0.0, 'type': 'none'}, 'ozone': 281, 'humidity': 90.0}, {'date': '2023-08-24T08:00:00', 'weather': 'partly_sunny', 'summary': 'Partly sunny', 'icon': 4, 'temperature': 31.2, 'feels_like': 38.5, 'wind_chill': 33.8, 'dew_point': 27.6, 'wind': {'speed': 1.5, 'gusts': 5.0, 'angle': 203, 'dir': 'SSW'}, 'cloud_cover': 52, 'pressure': 1000, 'precipitation': {'total': 0.0, 'type': 'none'}, 'ozone': 281, 'humidity': 81.0}, {'date': '2023-08-24T09:00:00', 'weather': 'partly_sunny', 'summary': 'Partly sunny', 'icon': 4, 'temperature': 34.1, 'feels_like': 41.0, 'wind_chill': 36.9, 'dew_point': 26.9, 'wind': {'speed': 1.0, 'gusts': 5.8, 'angle': 236, 'dir': 'SW'}, 'cloud_cover': 64, 'pressure': 1000, 'precipitation': {'total': 0.0, 'type': 'none'}, 'ozone': 281, 'humidity': 66.0}, {'date': '2023-08-24T10:00:00', 'weather': 'partly_sunny', 'summary': 'Partly sunny', 'icon': 4, 'temperature': 35.5, 'feels_like': 42.3, 'wind_chill': 38.6, 'dew_point': 26.7, 'wind': {'speed': 1.1, 'gusts': 4.9, 'angle': 285, 'dir': 'WNW'}, 'cloud_cover': 58, 'pressure': 1000, 'precipitation': {'total': 0.0, 'type': 'none'}, 'ozone': 281, 'humidity': 60.0}, {'date': '2023-08-24T11:00:00', 'weather': 'partly_sunny', 'summary': 'Partly sunny', 'icon': 4, 'temperature': 37.2, 'feels_like': 42.9, 'wind_chill': 40.7, 'dew_point': 25.9, 'wind': {'speed': 1.7, 'gusts': 5.4, 'angle': 309, 'dir': 'NW'}, 'cloud_cover': 63, 'pressure': 1000, 'precipitation': {'total': 0.0, 'type': 'none'}, 'ozone': 281, 'humidity': 52.0}, {'date': '2023-08-24T12:00:00', 'weather': 'mostly_cloudy', 'summary': 'Mostly cloudy', 'icon': 5, 'temperature': 39.2, 'feels_like': 44.0, 'wind_chill': 43.1, 'dew_point': 24.7, 'wind': {'speed': 1.8, 'gusts': 5.9, 'angle': 317, 'dir': 'NW'}, 'cloud_cover': 80, 'pressure': 999, 'precipitation': {'total': 0.0, 'type': 'none'}, 'ozone': 281, 'humidity': 44.0}, {'date': '2023-08-24T13:00:00', 'weather': 'partly_sunny', 'summary': 'Partly sunny', 'icon': 4, 'temperature': 40.5, 'feels_like': 45.2, 'wind_chill': 44.8, 'dew_point': 24.2, 'wind': {'speed': 2.1, 'gusts': 6.6, 'angle': 328, 'dir': 'NNW'}, 'cloud_cover': 56, 'pressure': 999, 'precipitation': {'total': 0.0, 'type': 'none'}, 'ozone': 280, 'humidity': 39.0}, {'date': '2023-08-24T14:00:00', 'weather': 'partly_sunny', 'summary': 'Partly sunny', 'icon': 4, 'temperature': 41.8, 'feels_like': 46.7, 'wind_chill': 46.7, 'dew_point': 25.0, 'wind': {'speed': 3.1, 'gusts': 7.5, 'angle': 330, 'dir': 'NNW'}, 'cloud_cover': 41, 'pressure': 998, 'precipitation': {'total': 0.0, 'type': 'none'}, 'ozone': 283, 'humidity': 39.0}, {'date': '2023-08-24T15:00:00', 'weather': 'sunny', 'summary': 'Sunny', 'icon': 2, 'temperature': 41.8, 'feels_like': 47.0, 'wind_chill': 47.0, 'dew_point': 25.8, 'wind': {'speed': 3.8, 'gusts': 8.6, 'angle': 333, 'dir': 'NNW'}, 'cloud_cover': 10, 'pressure': 997, 'precipitation': {'total': 0.0, 'type': 'none'}, 'ozone': 284, 'humidity': 40.0}, {'date': '2023-08-24T16:00:00', 'weather': 'sunny', 'summary': 'Sunny', 'icon': 2, 'temperature': 41.3, 'feels_like': 46.9, 'wind_chill': 46.6, 'dew_point': 27.3, 'wind': {'speed': 4.6, 'gusts': 9.3, 'angle': 337, 'dir': 'NNW'}, 'cloud_cover': 3, 'pressure': 996, 'precipitation': {'total': 0.0, 'type': 'none'}, 'ozone': 284, 'humidity': 45.0}, {'date': '2023-08-24T17:00:00', 'weather': 'sunny', 'summary': 'Sunny', 'icon': 2, 'temperature': 40.6, 'feels_like': 46.6, 'wind_chill': 46.0, 'dew_point': 28.4, 'wind': {'speed': 5.4, 'gusts': 9.4, 'angle': 339, 'dir': 'NNW'}, 'cloud_cover': 0, 'pressure': 997, 'precipitation': {'total': 0.0, 'type': 'none'}, 'ozone': 284, 'humidity': 50.0}, {'date': '2023-08-24T18:00:00', 'weather': 'sunny', 'summary': 'Sunny', 'icon': 2, 'temperature': 39.1, 'feels_like': 45.1, 'wind_chill': 44.1, 'dew_point': 28.2, 'wind': {'speed': 5.3, 'gusts': 9.1, 'angle': 337, 'dir': 'NNW'}, 'cloud_cover': 0, 'pressure': 996, 'precipitation': {'total': 0.0, 'type': 'none'}, 'ozone': 284, 'humidity': 54.0}, {'date': '2023-08-24T19:00:00', 'weather': 'sunny', 'summary': 'Sunny', 'icon': 2, 'temperature': 37.3, 'feels_like': 43.8, 'wind_chill': 41.7, 'dew_point': 28.2, 'wind': {'speed': 4.7, 'gusts': 7.8, 'angle': 335, 'dir': 'NNW'}, 'cloud_cover': 0, 'pressure': 997, 'precipitation': {'total': 0.0, 'type': 'none'}, 'ozone': 284, 'humidity': 60.0}, {'date': '2023-08-24T20:00:00', 'weather': 'sunny', 'summary': 'Sunny', 'icon': 2, 'temperature': 37.0, 'feels_like': 44.3, 'wind_chill': 41.2, 'dew_point': 28.6, 'wind': {'speed': 3.8, 'gusts': 6.4, 'angle': 336, 'dir': 'NNW'}, 'cloud_cover': 0, 'pressure': 997, 'precipitation': {'total': 0.0, 'type': 'none'}, 'ozone': 284, 'humidity': 62.0}, {'date': '2023-08-24T21:00:00', 'weather': 'sunny', 'summary': 'Sunny', 'icon': 2, 'temperature': 36.2, 'feels_like': 44.2, 'wind_chill': 40.0, 'dew_point': 28.5, 'wind': {'speed': 2.8, 'gusts': 4.6, 'angle': 335, 'dir': 'NNW'}, 'cloud_cover': 0, 'pressure': 998, 'precipitation': {'total': 0.0, 'type': 'none'}, 'ozone': 284, 'humidity': 64.0}, {'date': '2023-08-24T22:00:00', 'weather': 'sunny', 'summary': 'Sunny', 'icon': 2, 'temperature': 35.9, 'feels_like': 44.7, 'wind_chill': 39.3, 'dew_point': 28.5, 'wind': {'speed': 1.6, 'gusts': 2.4, 'angle': 325, 'dir': 'NW'}, 'cloud_cover': 0, 'pressure': 998, 'precipitation': {'total': 0.0, 'type': 'none'}, 'ozone': 284, 'humidity': 65.0}, {'date': '2023-08-24T23:00:00', 'weather': 'sunny', 'summary': 'Sunny', 'icon': 2, 'temperature': 35.2, 'feels_like': 44.9, 'wind_chill': 37.9, 'dew_point': 28.6, 'wind': {'speed': 0.5, 'gusts': 1.3, 'angle': 261, 'dir': 'W'}, 'cloud_cover': 0, 'pressure': 997, 'precipitation': {'total': 0.0, 'type': 'none'}, 'ozone': 284, 'humidity': 68.0}]}\n"
     ]
    }
   ],
   "source": [
    "import openai\n",
    "import os\n",
    "import json\n",
    "import http.client\n",
    "from dotenv import load_dotenv\n",
    "\n",
    "load_dotenv() # Load environment variables\n",
    "\n",
    "OPENAI_API_KEY = os.getenv(\"OPENAI_API_KEY\") # Retrieve OpenAI API key\n",
    "\n",
    "if not OPENAI_API_KEY:\n",
    "    raise ValueError(\"Error: OPENAI_API_KEY is not loaded. Check your .env file.\") # Ensure API key is loaded\n",
    "\n",
    "openai.api_key = OPENAI_API_KEY\n",
    "\n",
    "def get_current_weather(city):\n",
    "    try:\n",
    "        conn = http.client.HTTPSConnection(\"ai-weather-by-meteosource.p.rapidapi.com\")\n",
    "\n",
    "        headers = {\n",
    "            \"x-rapidapi-key\": \"efd579194cmsh0412ba72d13838ap13fbb1jsn23382dcae2d8\",\n",
    "            \"x-rapidapi-host\": \"ai-weather-by-meteosource.p.rapidapi.com\"\n",
    "        }\n",
    "\n",
    "        # Use city name to get latitude & longitude\n",
    "        geo_endpoint = f\"/find_places?text={city}\"\n",
    "        conn.request(\"GET\", geo_endpoint, headers=headers)\n",
    "        geo_res = conn.getresponse()\n",
    "        geo_data = json.loads(geo_res.read().decode(\"utf-8\"))\n",
    "\n",
    "        if not geo_data:\n",
    "            return {\"error\": \"City not found\"}\n",
    "\n",
    "        lat, lon = geo_data[0][\"lat\"], geo_data[0][\"lon\"]\n",
    "\n",
    "        # Fetch real-time weather using the correct endpoint\n",
    "        weather_endpoint = f\"/time_machine?lat={lat}&lon={lon}&date=2023-08-24&units=auto\"\n",
    "        conn.request(\"GET\", weather_endpoint, headers=headers)\n",
    "        weather_res = conn.getresponse()\n",
    "        weather_data = json.loads(weather_res.read().decode(\"utf-8\"))\n",
    "\n",
    "        return weather_data\n",
    "\n",
    "    except Exception as e:\n",
    "        return {\"error\": str(e)}\n",
    "    \n",
    "print(get_current_weather(\"Dubai\"))"
   ]
  },
  {
   "cell_type": "code",
   "execution_count": 38,
   "metadata": {},
   "outputs": [],
   "source": [
    "# Define function for OpenAI\n",
    "functions = [\n",
    "    {\n",
    "        \"name\": \"get_current_weather\",\n",
    "        \"description\": \"Fetches real-time weather for a given city\",\n",
    "        \"parameters\": {\n",
    "            \"type\": \"object\",\n",
    "            \"properties\": {\n",
    "                \"city\": {\n",
    "                    \"type\": \"string\",\n",
    "                    \"description\": \"The city name, e.g. Dubai\"\n",
    "                },\n",
    "            },\n",
    "            \"required\": [\"city\"],\n",
    "        },\n",
    "    },\n",
    "    {\n",
    "        \"name\": \"get_current_location\",\n",
    "        \"description\": \"Fetches lat and log for a city\",\n",
    "        \"parameters\": {\n",
    "            \"type\": \"object\",\n",
    "            \"properties\": {\n",
    "                \"city\": {\n",
    "                    \"type\": \"string\",\n",
    "                    \"description\": \"The city name, e.g. Dubai\"\n",
    "                },\n",
    "            },\n",
    "            \"required\": [\"city\"],\n",
    "        },\n",
    "    }\n",
    "]"
   ]
  },
  {
   "cell_type": "code",
   "execution_count": 53,
   "metadata": {},
   "outputs": [
    {
     "name": "stdout",
     "output_type": "stream",
     "text": [
      "{\n",
      "  \"role\": \"assistant\",\n",
      "  \"content\": null,\n",
      "  \"function_call\": {\n",
      "    \"name\": \"get_current_weather\",\n",
      "    \"arguments\": \"{\\\"city\\\":\\\"Dubai\\\"}\"\n",
      "  },\n",
      "  \"refusal\": null,\n",
      "  \"annotations\": []\n",
      "}\n"
     ]
    }
   ],
   "source": [
    "messages = [{\"role\": \"user\", \"content\": \"What is the temperature in Duubi?\"}] # User input to OpenAI\n",
    "\n",
    "response = openai.ChatCompletion.create( # Send request to OpenAI\n",
    "    model=\"gpt-3.5-turbo\",\n",
    "    messages=messages,\n",
    "    functions=functions\n",
    ")\n",
    "\n",
    "response_message = response[\"choices\"][0][\"message\"] # Check if OpenAI requests a function call\n",
    "print(response_message)"
   ]
  },
  {
   "cell_type": "code",
   "execution_count": 54,
   "metadata": {},
   "outputs": [
    {
     "name": "stdout",
     "output_type": "stream",
     "text": [
      "The current temperature in Duubi is 32.8°C.\n"
     ]
    }
   ],
   "source": [
    "function_name = response_message[\"function_call\"][\"name\"]\n",
    "function_args = json.loads(response_message[\"function_call\"][\"arguments\"])\n",
    "# print(get_current_weather(\"AbuDhabi\"))\n",
    "if function_name == \"get_current_weather\":\n",
    "    weather_result = get_current_weather(function_args[\"city\"])\n",
    "\n",
    "    messages.append({ # appending the role as function and passing function name and in content we are giving the json result from API\n",
    "        \"role\": \"function\",\n",
    "        \"name\": function_name,\n",
    "        \"content\": json.dumps(weather_result) \n",
    "    })\n",
    "\n",
    "    # Ask OpenAI to format the final response\n",
    "    final_response = openai.ChatCompletion.create(\n",
    "        model=\"gpt-3.5-turbo\",\n",
    "        messages=messages\n",
    "    )\n",
    "\n",
    "    print(final_response[\"choices\"][0][\"message\"][\"content\"])"
   ]
  }
 ],
 "metadata": {
  "kernelspec": {
   "display_name": "openaidemo",
   "language": "python",
   "name": "python3"
  },
  "language_info": {
   "codemirror_mode": {
    "name": "ipython",
    "version": 3
   },
   "file_extension": ".py",
   "mimetype": "text/x-python",
   "name": "python",
   "nbconvert_exporter": "python",
   "pygments_lexer": "ipython3",
   "version": "3.10.16"
  }
 },
 "nbformat": 4,
 "nbformat_minor": 2
}
